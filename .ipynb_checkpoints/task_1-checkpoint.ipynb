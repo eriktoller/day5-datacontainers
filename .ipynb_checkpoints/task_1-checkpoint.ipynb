{
 "cells": [
  {
   "cell_type": "markdown",
   "metadata": {},
   "source": [
    "# Linear Algebra"
   ]
  },
  {
   "cell_type": "code",
   "execution_count": 3,
   "metadata": {},
   "outputs": [],
   "source": [
    "import numpy as np\n",
    "from scipy import linalg"
   ]
  },
  {
   "cell_type": "markdown",
   "metadata": {},
   "source": [
    "a. Define a matrix A"
   ]
  },
  {
   "cell_type": "code",
   "execution_count": 9,
   "metadata": {},
   "outputs": [
    {
     "name": "stdout",
     "output_type": "stream",
     "text": [
      "[[1 2 3]\n",
      " [4 5 6]\n",
      " [7 8 9]]\n"
     ]
    }
   ],
   "source": [
    "A = np.mat([[1, 2, 3],  [4, 5, 6],  [7, 8, 9]])\n",
    "print(A)"
   ]
  },
  {
   "cell_type": "markdown",
   "metadata": {},
   "source": [
    "b. Define a vector b"
   ]
  },
  {
   "cell_type": "code",
   "execution_count": 10,
   "metadata": {},
   "outputs": [
    {
     "name": "stdout",
     "output_type": "stream",
     "text": [
      "[[1 2 3]]\n"
     ]
    }
   ],
   "source": [
    "b = np.mat([1, 2, 3])\n",
    "print(b)"
   ]
  },
  {
   "cell_type": "markdown",
   "metadata": {},
   "source": [
    "c. Solve the linear system of equations A x = b"
   ]
  },
  {
   "cell_type": "code",
   "execution_count": 12,
   "metadata": {},
   "outputs": [
    {
     "name": "stdout",
     "output_type": "stream",
     "text": [
      "[[-0.23333333]\n",
      " [ 0.46666667]\n",
      " [ 0.1       ]]\n"
     ]
    }
   ],
   "source": [
    "c = np.linalg.solve(A, b.T)\n",
    "print(c)"
   ]
  },
  {
   "cell_type": "markdown",
   "metadata": {},
   "source": [
    "d. Check that your solution is correct by plugging it into the equation"
   ]
  },
  {
   "cell_type": "code",
   "execution_count": 13,
   "metadata": {},
   "outputs": [
    {
     "name": "stdout",
     "output_type": "stream",
     "text": [
      "[[1.]\n",
      " [2.]\n",
      " [3.]]\n"
     ]
    }
   ],
   "source": [
    "d = A*c\n",
    "print(d)"
   ]
  },
  {
   "cell_type": "markdown",
   "metadata": {},
   "source": [
    "e. Repeat steps a-d using a random 3x3 matrix B (instead of the vector b)"
   ]
  },
  {
   "cell_type": "code",
   "execution_count": 78,
   "metadata": {},
   "outputs": [
    {
     "name": "stdout",
     "output_type": "stream",
     "text": [
      "A1 = \n",
      " [[1 2 3]\n",
      " [4 5 6]\n",
      " [7 8 9]]\n",
      "b1 = \n",
      " [[0.77997598 0.40693415 0.43865629]\n",
      " [0.39134434 0.34880951 0.77489917]\n",
      " [0.05063111 0.21877376 0.2810382 ]]\n",
      "c1 = A1/b1 = \n",
      " [[ 1.27602640e+15  1.47734792e+15 -3.33783151e+14]\n",
      " [-2.55205280e+15 -2.95469584e+15  6.67566301e+14]\n",
      " [ 1.27602640e+15  1.47734792e+15 -3.33783151e+14]]\n",
      "d1 = b1 = \n",
      " [[ 0.75   -0.25    0.1875]\n",
      " [ 0.5     0.5     0.125 ]\n",
      " [ 0.25    0.25    0.0625]]\n"
     ]
    }
   ],
   "source": [
    "b1 = np.random.random((3,3))\n",
    "c1 = np.linalg.solve(A, b1.T)\n",
    "d1 = A1*c1\n",
    "print('A1 = \\n', A)\n",
    "print('b1 = \\n', b1)\n",
    "print('c1 = A1/b1 = \\n', c1)\n",
    "print('d1 = b1 = \\n', d1)"
   ]
  },
  {
   "cell_type": "markdown",
   "metadata": {},
   "source": [
    "f. Solve the eigenvalue problem for the matrix A and print the eigenvalues and eigenvectors"
   ]
  },
  {
   "cell_type": "code",
   "execution_count": 30,
   "metadata": {},
   "outputs": [
    {
     "name": "stdout",
     "output_type": "stream",
     "text": [
      "Eigen values: \n",
      " (16.116843969807043+0j) (-1.1168439698070416+0j) (-9.759184829871139e-16+0j)\n",
      "Eigen vectors: \n",
      " [-0.23197069 -0.52532209 -0.8186735 ] [-0.78583024 -0.08675134  0.61232756] [ 0.40824829 -0.81649658  0.40824829]\n"
     ]
    }
   ],
   "source": [
    "la, v = linalg.eig(A)\n",
    "l1, l2, l3 = la\n",
    "print('Eigen values: \\n',l1, l2, l3)\n",
    "print('Eigen vectors: \\n', v[:, 0], v[:, 1], v[:, 2])"
   ]
  },
  {
   "cell_type": "markdown",
   "metadata": {},
   "source": [
    "g. Calculate the inverse, determinant of A"
   ]
  },
  {
   "cell_type": "code",
   "execution_count": 39,
   "metadata": {},
   "outputs": [
    {
     "name": "stdout",
     "output_type": "stream",
     "text": [
      "Inverse of A: \n",
      " 0.0\n",
      "Determinant of A: \n",
      " 0.0\n",
      "Determinant of the inverse of A: \n",
      " 0.024499999999999914\n"
     ]
    }
   ],
   "source": [
    "invA = linalg.inv(A)\n",
    "print('Inverse of A: \\n', detA)\n",
    "detA = linalg.det(A)\n",
    "print('Determinant of A: \\n', detA)\n",
    "detA1 = linalg.det(invA)\n",
    "print('Determinant of the inverse of A: \\n', detA1)"
   ]
  },
  {
   "cell_type": "markdown",
   "metadata": {},
   "source": [
    "h. Calculate the norm of A with different orders"
   ]
  },
  {
   "cell_type": "code",
   "execution_count": 37,
   "metadata": {},
   "outputs": [
    {
     "name": "stdout",
     "output_type": "stream",
     "text": [
      "L1 norm of A: \n",
      " 18.0\n",
      "L2 norm of A: \n",
      " 16.84810335261421\n",
      "L_inf norm of A: \n",
      " 24.0\n"
     ]
    }
   ],
   "source": [
    "nA1 =  linalg.norm(A,1)\n",
    "nA2 =  linalg.norm(A,2)\n",
    "nAinf =  linalg.norm(A,np.inf)\n",
    "print('L1 norm of A: \\n', nA1)\n",
    "print('L2 norm of A: \\n', nA2)\n",
    "print('L_inf norm of A: \\n', nAinf)"
   ]
  },
  {
   "cell_type": "markdown",
   "metadata": {},
   "source": [
    "# Statistics"
   ]
  },
  {
   "cell_type": "code",
   "execution_count": 45,
   "metadata": {},
   "outputs": [],
   "source": [
    "from scipy import stats\n",
    "import matplotlib.pyplot as plt"
   ]
  },
  {
   "cell_type": "markdown",
   "metadata": {},
   "source": [
    "a. Create a discrete random variable with poissonian distribution and plot its probability mass function (PMF), cummulative distribution function (CDF) and a histogram of 1000 random realizations of the variable"
   ]
  },
  {
   "cell_type": "code",
   "execution_count": 103,
   "metadata": {},
   "outputs": [
    {
     "name": "stdout",
     "output_type": "stream",
     "text": [
      "mu =  0.2712123488366691\n"
     ]
    },
    {
     "data": {
      "text/plain": [
       "(array([745.,   0.,   0.,   0.,   0.,   0., 214.,   0.,   0.,   0.,   0.,\n",
       "          0.,   0.,  36.,   0.,   0.,   0.,   0.,   0.,   5.]),\n",
       " array([0.  , 0.15, 0.3 , 0.45, 0.6 , 0.75, 0.9 , 1.05, 1.2 , 1.35, 1.5 ,\n",
       "        1.65, 1.8 , 1.95, 2.1 , 2.25, 2.4 , 2.55, 2.7 , 2.85, 3.  ]),\n",
       " <BarContainer object of 20 artists>)"
      ]
     },
     "execution_count": 103,
     "metadata": {},
     "output_type": "execute_result"
    },
    {
     "data": {
      "image/png": "[encoded data removed]",
      "text/plain": [
       "<Figure size 432x288 with 1 Axes>"
      ]
     },
     "metadata": {
      "needs_background": "light"
     },
     "output_type": "display_data"
    },
    {
     "data": {
      "image/png": "[encoded data removed]",
      "text/plain": [
       "<Figure size 432x288 with 1 Axes>"
      ]
     },
     "metadata": {
      "needs_background": "light"
     },
     "output_type": "display_data"
    }
   ],
   "source": [
    "mu = np.random.random()\n",
    "print('mu = ', mu)\n",
    "mean, var, skew, kurt = stats.poisson.stats(mu, moments='mvsk')\n",
    "r = stats.poisson.rvs(mu, size=1000)\n",
    "\n",
    "fig, ax = plt.subplots(1, 1)\n",
    "x = np.arange(10)\n",
    "ax.plot(x, stats.poisson.pmf(x, mu), 'o', label='poisson pmf')\n",
    "ax.plot(x, stats.poisson.cdf(x, mu), 'o', label='poisson cdf')\n",
    "ax.legend()\n",
    "\n",
    "fig, ax = plt.subplots(1, 1)\n",
    "ax.hist(r, bins=20)"
   ]
  },
  {
   "cell_type": "markdown",
   "metadata": {},
   "source": [
    "b. Create a continious random variable with normal distribution and plot its probability mass function (PMF), cummulative distribution function (CDF) and a histogram of 1000 random realizations of the variable"
   ]
  },
  {
   "cell_type": "code",
   "execution_count": 98,
   "metadata": {},
   "outputs": [
    {
     "name": "stdout",
     "output_type": "stream",
     "text": [
      "mu =  0.5570348654961098\n"
     ]
    },
    {
     "data": {
      "text/plain": [
       "(array([  4.,   6.,  15.,  23.,  35.,  52.,  74.,  75., 100., 125., 112.,\n",
       "        100.,  99.,  64.,  42.,  34.,  16.,  12.,   8.,   4.]),\n",
       " array([-2.43088691, -2.12935354, -1.82782018, -1.52628681, -1.22475344,\n",
       "        -0.92322007, -0.62168671, -0.32015334, -0.01861997,  0.2829134 ,\n",
       "         0.58444676,  0.88598013,  1.1875135 ,  1.48904686,  1.79058023,\n",
       "         2.0921136 ,  2.39364697,  2.69518033,  2.9967137 ,  3.29824707,\n",
       "         3.59978044]),\n",
       " <BarContainer object of 20 artists>)"
      ]
     },
     "execution_count": 98,
     "metadata": {},
     "output_type": "execute_result"
    },
    {
     "data": {
      "image/png": "[encoded data removed]",
      "text/plain": [
       "<Figure size 432x288 with 1 Axes>"
      ]
     },
     "metadata": {
      "needs_background": "light"
     },
     "output_type": "display_data"
    },
    {
     "data": {
      "image/png": "[encoded data removed]",
      "text/plain": [
       "<Figure size 432x288 with 1 Axes>"
      ]
     },
     "metadata": {
      "needs_background": "light"
     },
     "output_type": "display_data"
    }
   ],
   "source": [
    "print('mu = ', mu)\n",
    "r = stats.norm.rvs(mu, size=1000)\n",
    "\n",
    "fig, ax = plt.subplots(1, 1)\n",
    "x = np.arange(10)\n",
    "ax.plot(x, stats.norm.pdf(x, mu), '-o', label='poisson pmf')\n",
    "ax.plot(x, stats.norm.cdf(x, mu), '-o', label='poisson cdf')\n",
    "ax.legend()\n",
    "\n",
    "fig, ax = plt.subplots(1, 1)\n",
    "ax.hist(r, bins=20)"
   ]
  },
  {
   "cell_type": "markdown",
   "metadata": {},
   "source": [
    "c. Test if two sets of (independent) random data comes from the same distribution"
   ]
  },
  {
   "cell_type": "code",
   "execution_count": 116,
   "metadata": {},
   "outputs": [
    {
     "name": "stdout",
     "output_type": "stream",
     "text": [
      "Ttest_indResult(statistic=1.3532038832489026, pvalue=0.17614358762381224)\n"
     ]
    },
    {
     "data": {
      "text/plain": [
       "<matplotlib.legend.Legend at 0x29b6f00d910>"
      ]
     },
     "execution_count": 116,
     "metadata": {},
     "output_type": "execute_result"
    },
    {
     "data": {
      "image/png": "[encoded data removed]",
      "text/plain": [
       "<Figure size 432x288 with 1 Axes>"
      ]
     },
     "metadata": {
      "needs_background": "light"
     },
     "output_type": "display_data"
    }
   ],
   "source": [
    "r1 = stats.norm.rvs(mu, size=1000)\n",
    "r2 = stats.poisson.rvs(mu, size=1000)\n",
    "print(stats.ttest_ind(r1, r2))\n",
    "fig, ax = plt.subplots(1, 1)\n",
    "ax.hist(r1, bins=20, alpha=.75, label='Data 1')\n",
    "ax.hist(r2, bins=20, alpha=.75, label='Data 2')\n",
    "ax.legend()"
   ]
  },
  {
   "cell_type": "code",
   "execution_count": null,
   "metadata": {},
   "outputs": [],
   "source": []
  }
 ],
 "metadata": {
  "kernelspec": {
   "display_name": "Python 3",
   "language": "python",
   "name": "python3"
  },
  "language_info": {
   "codemirror_mode": {
    "name": "ipython",
    "version": 3
   },
   "file_extension": ".py",
   "mimetype": "text/x-python",
   "name": "python",
   "nbconvert_exporter": "python",
   "pygments_lexer": "ipython3",
   "version": "3.8.5"
  }
 },
 "nbformat": 4,
 "nbformat_minor": 4
}
